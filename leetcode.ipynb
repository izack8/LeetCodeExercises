{
 "cells": [
  {
   "attachments": {},
   "cell_type": "markdown",
   "metadata": {},
   "source": [
    "## Merge Word\n",
    "\n",
    "You are given two strings word1 and word2. Merge the strings by adding letters in alternating order, starting with word1. If a string is longer than the other, append the additional letters onto the end of the merged string.\n",
    "\n",
    "Return the merged string."
   ]
  },
  {
   "cell_type": "code",
   "execution_count": 69,
   "metadata": {},
   "outputs": [],
   "source": [
    "class Solution:\n",
    "    def mergeAlternately(self, word1: str, word2: str) -> str:\n",
    "        merged=[]\n",
    "        for i in range(max(len(word1),len(word2))):\n",
    "            if i < len(word1):\n",
    "                merged.append(word1[i])\n",
    "            if i < len(word2):\n",
    "                merged.append(word2[i])\n",
    "        concatenated = \"\".join(merged)\n",
    "        return concatenated"
   ]
  },
  {
   "attachments": {},
   "cell_type": "markdown",
   "metadata": {},
   "source": [
    "## Greatest Common Divisor of Strings\n",
    "\n",
    "For two strings s and t, we say \"t divides s\" if and only if s = t + ... + t (i.e., t is concatenated with itself one or more times).\n",
    "\n",
    "Given two strings str1 and str2, return the largest string x such that x divides both str1 and str2."
   ]
  },
  {
   "cell_type": "code",
   "execution_count": 70,
   "metadata": {},
   "outputs": [],
   "source": [
    "class Solution:\n",
    "    def gcdOfStrings(self, str1: str, str2: str) -> str:\n",
    "        \n",
    "        if str1 + str2 != str2 + str1:\n",
    "            return \"\"\n",
    "        \n",
    "        \n",
    "        greatest_str = max(len(str1),len(str2))\n",
    "        for i in range(greatest_str, 0,-1):\n",
    "            if greatest_str % i == 0:\n",
    "                str3=''\n",
    "                str4=''\n",
    "                str1_repeats = int(len(str1)/i)\n",
    "                str2_repeats = int(len(str2)/i)\n",
    "                for j in range(str1_repeats):\n",
    "                    str3 += str1[:i]\n",
    "                    \n",
    "                for k in range(str2_repeats):\n",
    "                    str4 += str2[:i]\n",
    "            \n",
    "            if str3 == str1 and str4 == str2:\n",
    "                return str1[:i]\n"
   ]
  },
  {
   "attachments": {},
   "cell_type": "markdown",
   "metadata": {},
   "source": [
    "## 1431. Kids With the Greatest Number of Candies\n",
    "\n",
    "There are n kids with candies. You are given an integer array candies, where each candies[i] represents the number of candies the ith kid has, and an integer extraCandies, denoting the number of extra candies that you have.\n",
    "\n",
    "Return a boolean array result of length n, where result[i] is true if, after giving the ith kid all the extraCandies, they will have the greatest number of candies among all the kids, or false otherwise.\n",
    "\n",
    "Note that multiple kids can have the greatest number of candies."
   ]
  },
  {
   "cell_type": "code",
   "execution_count": 71,
   "metadata": {},
   "outputs": [],
   "source": [
    "import numpy as np\n",
    "class Solution:\n",
    "    def kidsWithCandies(self, candies: list[int], extraCandies: int) -> list[bool]:\n",
    "        m=max(candies)\n",
    "        return [True if i+extraCandies>=m else False for i in candies]"
   ]
  },
  {
   "attachments": {},
   "cell_type": "markdown",
   "metadata": {},
   "source": [
    "## 11. Container With Most Water\n",
    "\n",
    "You are given an integer array height of length n. There are n vertical lines drawn such that the two endpoints of the ith line are (i, 0) and (i, height[i]).\n",
    "\n",
    "Find two lines that together with the x-axis form a container, such that the container contains the most water.\n",
    "\n",
    "Return the maximum amount of water a container can store.\n",
    "\n",
    "Notice that you may not slant the container."
   ]
  },
  {
   "cell_type": "code",
   "execution_count": 72,
   "metadata": {},
   "outputs": [],
   "source": [
    "class Solution:\n",
    "    def maxArea(self, height: list[int]) -> int:\n",
    "        i = 0\n",
    "        j = len(height) - 1\n",
    "        max_area = 0\n",
    "        while i < j:\n",
    "            area = min(height[i], height[j]) * (j-i)\n",
    "            max_area = max(area, max_area)\n",
    "            if(height[i] < height[j]):\n",
    "\n",
    "                #we are moving the shorter length of the 2, because the water is only bounded to the shorter length. \n",
    "                #if we move the longer length, the volume of water is only going to decrease.\n",
    "                i+=1\n",
    "            else:\n",
    "                j -= 1\n",
    "        return max_area"
   ]
  },
  {
   "attachments": {},
   "cell_type": "markdown",
   "metadata": {},
   "source": [
    "## 1679. Max Number of K-Sum Pairs\n",
    "\n",
    "You are given an integer array nums and an integer k.\n",
    "\n",
    "In one operation, you can pick two numbers from the array whose sum equals k and remove them from the array.\n",
    "\n",
    "Return the maximum number of operations you can perform on the array."
   ]
  },
  {
   "cell_type": "code",
   "execution_count": 82,
   "metadata": {},
   "outputs": [
    {
     "data": {
      "text/plain": [
       "2"
      ]
     },
     "execution_count": 82,
     "metadata": {},
     "output_type": "execute_result"
    }
   ],
   "source": [
    "from collections import defaultdict\n",
    "def maxOperations(self, nums: list[int], k: int) -> int:\n",
    "        counter = defaultdict(int)\n",
    "        count = 0\n",
    "        for num in nums:\n",
    "            calc = k - num\n",
    "            #check to see if the number exist in the list\n",
    "            if counter[calc] > 0:\n",
    "                #if exist, \"removes\" from the list by decreasing value of dictionary\n",
    "                counter[calc] -= 1\n",
    "                #count += 1 to increment the calculation\n",
    "                count += 1\n",
    "            else:\n",
    "                #if this is the first instance of the number, +1 \n",
    "                counter[num] += 1\n",
    "        return count\n",
    "maxOperations(self=any, nums=[3,2,3,4,3], k=6)"
   ]
  },
  {
   "attachments": {},
   "cell_type": "markdown",
   "metadata": {},
   "source": [
    "## 643. Maximum Average Subarray I\n",
    "\n",
    "You are given an integer array nums consisting of n elements, and an integer k.\n",
    "\n",
    "Find a contiguous subarray whose length is equal to k that has the maximum average value and return this value. Any answer with a calculation error less than 10-5 will be accepted.\n",
    "\n"
   ]
  },
  {
   "cell_type": "code",
   "execution_count": 63,
   "metadata": {},
   "outputs": [
    {
     "data": {
      "text/plain": [
       "4.5"
      ]
     },
     "execution_count": 63,
     "metadata": {},
     "output_type": "execute_result"
    }
   ],
   "source": [
    "def findMaxAverage(self, nums: list[int], k: int) -> float:\n",
    "    current_total = max_total = sum(nums[0 : k])\n",
    "    for i in range(len(nums) - k):\n",
    "        #this is the same as nums[i:i+k], but faster since we don't take up much space than nums[i:i+k]\n",
    "        current_total += nums[i + k] - nums[i]\n",
    "        max_total = max(current_total, max_total)\n",
    "    return float(max_total) / k\n",
    "            \n",
    "findMaxAverage(self=any, nums=[1,2,3,4,5], k=2)"
   ]
  },
  {
   "cell_type": "markdown",
   "metadata": {},
   "source": [
    "## 1456. Maximum Number of Vowels in a Substring of Given Length\n",
    "\n",
    "Given a string s and an integer k, return the maximum number of vowel letters in any substring of s with length k.\n",
    "\n",
    "Vowel letters in English are 'a', 'e', 'i', 'o', and 'u'."
   ]
  },
  {
   "cell_type": "code",
   "execution_count": 1,
   "metadata": {},
   "outputs": [],
   "source": [
    "def maxVowels(self, s: str, k: int) -> int:\n",
    "        vowels = ['a','e','i','o','u']\n",
    "        max_num = 0\n",
    "        current_num = 0\n",
    "        for i in range(k):\n",
    "            current_num += int(s[i] in vowels)\n",
    "        max_num = current_num\n",
    "\n",
    "        #sliding window algorithm \n",
    "        #if the next letter is a vowel in the window, we +1,\n",
    "        #if we lose a vowel letter, we -1\n",
    "        for i in range(k,len(s)):\n",
    "            if s[i] in vowels:\n",
    "                current_num += 1\n",
    "            if s[i-k] in vowels:\n",
    "                 current_num -= 1\n",
    "            \n",
    "            max_num = max(current_num, max_num)\n",
    "            current_num = 0\n",
    "\n",
    "        return max_num"
   ]
  },
  {
   "cell_type": "markdown",
   "metadata": {},
   "source": [
    "## 1004. Max Consecutive Ones III\n",
    "\n",
    "Given a binary array nums and an integer k, return the maximum number of consecutive 1's in the array if you can flip at most k 0's."
   ]
  },
  {
   "cell_type": "code",
   "execution_count": 2,
   "metadata": {},
   "outputs": [],
   "source": [
    "#this question just want you to return a window size. so R edge - L edge + 1 = window size, a.k.a\n",
    "#max number of consecutive 1\n",
    "def longestOnes(self, nums: list[int], k: int) -> int:\n",
    "    l, r = 0\n",
    "    for r in range(len(nums)):\n",
    "        if nums[r] == 0:\n",
    "            k-=1\n",
    "        #we want to find an even larger window\n",
    "        if k < 0:\n",
    "            if nums[l] == 0:\n",
    "                #+1 because our next window will have removed one 0 from it\n",
    "                k+=1\n",
    "            l+=1\n",
    "\n",
    "    #reuturning window size\n",
    "    return r - l + 1"
   ]
  },
  {
   "cell_type": "code",
   "execution_count": null,
   "metadata": {},
   "outputs": [],
   "source": []
  },
  {
   "cell_type": "code",
   "execution_count": null,
   "metadata": {},
   "outputs": [],
   "source": []
  },
  {
   "cell_type": "code",
   "execution_count": null,
   "metadata": {},
   "outputs": [],
   "source": []
  }
 ],
 "metadata": {
  "kernelspec": {
   "display_name": "py310",
   "language": "python",
   "name": "python3"
  },
  "language_info": {
   "codemirror_mode": {
    "name": "ipython",
    "version": 3
   },
   "file_extension": ".py",
   "mimetype": "text/x-python",
   "name": "python",
   "nbconvert_exporter": "python",
   "pygments_lexer": "ipython3",
   "version": "3.10.11"
  },
  "orig_nbformat": 4
 },
 "nbformat": 4,
 "nbformat_minor": 2
}
