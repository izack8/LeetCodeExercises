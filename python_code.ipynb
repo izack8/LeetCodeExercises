{
 "cells": [
  {
   "attachments": {},
   "cell_type": "markdown",
   "metadata": {},
   "source": [
    "## Merge Word\n",
    "\n",
    "You are given two strings word1 and word2. Merge the strings by adding letters in alternating order, starting with word1. If a string is longer than the other, append the additional letters onto the end of the merged string.\n",
    "\n",
    "Return the merged string."
   ]
  },
  {
   "cell_type": "code",
   "execution_count": 31,
   "metadata": {},
   "outputs": [],
   "source": [
    "class Solution:\n",
    "    def mergeAlternately(self, word1: str, word2: str) -> str:\n",
    "        merged=[]\n",
    "        for i in range(max(len(word1),len(word2))):\n",
    "            if i < len(word1):\n",
    "                merged.append(word1[i])\n",
    "            if i < len(word2):\n",
    "                merged.append(word2[i])\n",
    "        concatenated = \"\".join(merged)\n",
    "        return concatenated"
   ]
  },
  {
   "attachments": {},
   "cell_type": "markdown",
   "metadata": {},
   "source": [
    "## Greatest Common Divisor of Strings\n",
    "\n",
    "For two strings s and t, we say \"t divides s\" if and only if s = t + ... + t (i.e., t is concatenated with itself one or more times).\n",
    "\n",
    "Given two strings str1 and str2, return the largest string x such that x divides both str1 and str2."
   ]
  },
  {
   "cell_type": "code",
   "execution_count": 32,
   "metadata": {},
   "outputs": [],
   "source": [
    "class Solution:\n",
    "    def gcdOfStrings(self, str1: str, str2: str) -> str:\n",
    "        \n",
    "        if str1 + str2 != str2 + str1:\n",
    "            return \"\"\n",
    "        \n",
    "        \n",
    "        greatest_str = max(len(str1),len(str2))\n",
    "        for i in range(greatest_str, 0,-1):\n",
    "            if greatest_str % i == 0:\n",
    "                str3=''\n",
    "                str4=''\n",
    "                str1_repeats = int(len(str1)/i)\n",
    "                str2_repeats = int(len(str2)/i)\n",
    "                for j in range(str1_repeats):\n",
    "                    str3 += str1[:i]\n",
    "                    \n",
    "                for k in range(str2_repeats):\n",
    "                    str4 += str2[:i]\n",
    "            \n",
    "            if str3 == str1 and str4 == str2:\n",
    "                return str1[:i]\n"
   ]
  },
  {
   "attachments": {},
   "cell_type": "markdown",
   "metadata": {},
   "source": [
    "## 1431. Kids With the Greatest Number of Candies\n",
    "\n",
    "There are n kids with candies. You are given an integer array candies, where each candies[i] represents the number of candies the ith kid has, and an integer extraCandies, denoting the number of extra candies that you have.\n",
    "\n",
    "Return a boolean array result of length n, where result[i] is true if, after giving the ith kid all the extraCandies, they will have the greatest number of candies among all the kids, or false otherwise.\n",
    "\n",
    "Note that multiple kids can have the greatest number of candies."
   ]
  },
  {
   "cell_type": "code",
   "execution_count": 33,
   "metadata": {},
   "outputs": [],
   "source": [
    "import numpy as np\n",
    "class Solution:\n",
    "    def kidsWithCandies(self, candies: list[int], extraCandies: int) -> list[bool]:\n",
    "        m=max(candies)\n",
    "        return [True if i+extraCandies>=m else False for i in candies]"
   ]
  },
  {
   "attachments": {},
   "cell_type": "markdown",
   "metadata": {},
   "source": [
    "## 11. Container With Most Water\n",
    "\n",
    "You are given an integer array height of length n. There are n vertical lines drawn such that the two endpoints of the ith line are (i, 0) and (i, height[i]).\n",
    "\n",
    "Find two lines that together with the x-axis form a container, such that the container contains the most water.\n",
    "\n",
    "Return the maximum amount of water a container can store.\n",
    "\n",
    "Notice that you may not slant the container."
   ]
  },
  {
   "cell_type": "code",
   "execution_count": 34,
   "metadata": {},
   "outputs": [],
   "source": [
    "class Solution:\n",
    "    def maxArea(self, height: list[int]) -> int:\n",
    "        i = 0\n",
    "        j = len(height) - 1\n",
    "        max_area = 0\n",
    "        while i < j:\n",
    "            area = min(height[i], height[j]) * (j-i)\n",
    "            max_area = max(area, max_area)\n",
    "            if(height[i] < height[j]):\n",
    "\n",
    "                #we are moving the shorter length of the 2, because the water is only bounded to the shorter length. \n",
    "                #if we move the longer length, the volume of water is only going to decrease.\n",
    "                i+=1\n",
    "            else:\n",
    "                j -= 1\n",
    "        return max_area"
   ]
  },
  {
   "attachments": {},
   "cell_type": "markdown",
   "metadata": {},
   "source": [
    "## 1679. Max Number of K-Sum Pairs\n",
    "\n",
    "You are given an integer array nums and an integer k.\n",
    "\n",
    "In one operation, you can pick two numbers from the array whose sum equals k and remove them from the array.\n",
    "\n",
    "Return the maximum number of operations you can perform on the array."
   ]
  },
  {
   "cell_type": "code",
   "execution_count": 35,
   "metadata": {},
   "outputs": [
    {
     "data": {
      "text/plain": [
       "2"
      ]
     },
     "execution_count": 35,
     "metadata": {},
     "output_type": "execute_result"
    }
   ],
   "source": [
    "#using a hashmap\n",
    "from collections import defaultdict\n",
    "def maxOperations(self, nums: list[int], k: int) -> int:\n",
    "        counter = defaultdict(int)\n",
    "        count = 0\n",
    "        for num in nums:\n",
    "            calc = k - num\n",
    "            #check to see if the number exist in the list\n",
    "            if counter[calc] > 0:\n",
    "                #if exist, \"removes\" from the list by decreasing value of dictionary\n",
    "                counter[calc] -= 1\n",
    "                #count += 1 to increment the calculation\n",
    "                count += 1\n",
    "            else:\n",
    "                #if this is the first instance of the number, +1 \n",
    "                counter[num] += 1\n",
    "        return count\n",
    "maxOperations(self=any, nums=[3,2,3,4,3], k=6)"
   ]
  },
  {
   "attachments": {},
   "cell_type": "markdown",
   "metadata": {},
   "source": [
    "## 643. Maximum Average Subarray I\n",
    "\n",
    "You are given an integer array nums consisting of n elements, and an integer k.\n",
    "\n",
    "Find a contiguous subarray whose length is equal to k that has the maximum average value and return this value. Any answer with a calculation error less than 10-5 will be accepted.\n",
    "\n"
   ]
  },
  {
   "cell_type": "code",
   "execution_count": 36,
   "metadata": {},
   "outputs": [
    {
     "data": {
      "text/plain": [
       "4.5"
      ]
     },
     "execution_count": 36,
     "metadata": {},
     "output_type": "execute_result"
    }
   ],
   "source": [
    "def findMaxAverage(self, nums: list[int], k: int) -> float:\n",
    "    current_total = max_total = sum(nums[0 : k])\n",
    "    for i in range(len(nums) - k):\n",
    "        #this is the same as nums[i:i+k], but faster since we don't take up much space than nums[i:i+k]\n",
    "        current_total += nums[i + k] - nums[i]\n",
    "        max_total = max(current_total, max_total)\n",
    "    return float(max_total) / k\n",
    "            \n",
    "findMaxAverage(self=any, nums=[1,2,3,4,5], k=2)"
   ]
  },
  {
   "cell_type": "markdown",
   "metadata": {},
   "source": [
    "## 1456. Maximum Number of Vowels in a Substring of Given Length\n",
    "\n",
    "Given a string s and an integer k, return the maximum number of vowel letters in any substring of s with length k.\n",
    "\n",
    "Vowel letters in English are 'a', 'e', 'i', 'o', and 'u'."
   ]
  },
  {
   "cell_type": "code",
   "execution_count": 37,
   "metadata": {},
   "outputs": [],
   "source": [
    "def maxVowels(self, s: str, k: int) -> int:\n",
    "        vowels = ['a','e','i','o','u']\n",
    "        max_num = 0\n",
    "        current_num = 0\n",
    "        for i in range(k):\n",
    "            current_num += int(s[i] in vowels)\n",
    "        max_num = current_num\n",
    "\n",
    "        #sliding window algorithm \n",
    "        #if the next letter is a vowel in the window, we +1,\n",
    "        #if we lose a vowel letter, we -1\n",
    "        for i in range(k,len(s)):\n",
    "            if s[i] in vowels:\n",
    "                current_num += 1\n",
    "            if s[i-k] in vowels:\n",
    "                 current_num -= 1\n",
    "            \n",
    "            max_num = max(current_num, max_num)\n",
    "            current_num = 0\n",
    "\n",
    "        return max_num"
   ]
  },
  {
   "cell_type": "markdown",
   "metadata": {},
   "source": [
    "## 1004. Max Consecutive Ones III\n",
    "\n",
    "Given a binary array nums and an integer k, return the maximum number of consecutive 1's in the array if you can flip at most k 0's."
   ]
  },
  {
   "cell_type": "code",
   "execution_count": 38,
   "metadata": {},
   "outputs": [],
   "source": [
    "#this question just want you to return a window size. so R edge - L edge + 1 = window size, a.k.a\n",
    "#max number of consecutive 1\n",
    "def longestOnes(self, nums: list[int], k: int) -> int:\n",
    "    l, r = 0\n",
    "    for r in range(len(nums)):\n",
    "        if nums[r] == 0:\n",
    "            k-=1\n",
    "        #we want to find an even larger window\n",
    "        if k < 0:\n",
    "            if nums[l] == 0:\n",
    "                #+1 because our next window will have removed one 0 from it\n",
    "                k+=1\n",
    "            l+=1\n",
    "\n",
    "    #reuturning window size\n",
    "    return r - l + 1"
   ]
  },
  {
   "cell_type": "markdown",
   "metadata": {},
   "source": [
    "## 1493. Longest Subarray of 1's After Deleting One Element\n",
    "\n",
    "Given a binary array nums, you should delete one element from it.\n",
    "\n",
    "Return the size of the longest non-empty subarray containing only 1's in the resulting array. Return 0 if there is no such subarray."
   ]
  },
  {
   "cell_type": "code",
   "execution_count": 39,
   "metadata": {},
   "outputs": [
    {
     "data": {
      "text/plain": [
       "3"
      ]
     },
     "execution_count": 39,
     "metadata": {},
     "output_type": "execute_result"
    }
   ],
   "source": [
    "def longestSubarray(self, nums: list[int]) -> int:\n",
    "    #we just need to expand our window once we find a bigger window\n",
    "    l = r = 0\n",
    "    max_window = 0\n",
    "    zeroCount = 0\n",
    "\n",
    "    for r in range(len(nums)):\n",
    "        if nums[r] == 0:\n",
    "            zeroCount += 1\n",
    "        while zeroCount > 1:\n",
    "            zeroCount -= 1 if nums[l] == 0 else 0\n",
    "            l += 1\n",
    "        max_window = max(max_window, (r-l))\n",
    "\n",
    "    return max_window\n",
    "\n",
    "longestSubarray(self=any, nums=[1,1,0,1])"
   ]
  },
  {
   "cell_type": "markdown",
   "metadata": {},
   "source": [
    "## 1732. Find the Highest Altitude\n",
    "\n",
    "There is a biker going on a road trip. The road trip consists of n + 1 points at different altitudes. The biker starts his trip on point 0 with altitude equal 0.\n",
    "\n",
    "You are given an integer array gain of length n where gain[i] is the net gain in altitude between points i​​​​​​ and i + 1 for all (0 <= i < n). Return the highest altitude of a point."
   ]
  },
  {
   "cell_type": "code",
   "execution_count": 40,
   "metadata": {},
   "outputs": [
    {
     "data": {
      "text/plain": [
       "0"
      ]
     },
     "execution_count": 40,
     "metadata": {},
     "output_type": "execute_result"
    }
   ],
   "source": [
    "def largestAltitude(self, gain: list[int]) -> int:\n",
    "    alt_list = [0]\n",
    "    for i in range(len(gain)):\n",
    "        alt_list.append(alt_list[i]+gain[i])\n",
    "    return max(alt_list)\n",
    "largestAltitude(self=any, gain=[-4,-3,-2,-1,4,3,2])"
   ]
  },
  {
   "cell_type": "code",
   "execution_count": 41,
   "metadata": {},
   "outputs": [
    {
     "data": {
      "text/plain": [
       "3"
      ]
     },
     "execution_count": 41,
     "metadata": {},
     "output_type": "execute_result"
    }
   ],
   "source": [
    "gain=[-4,-3,-2,-1,4,3,2]\n",
    "sum(gain[3:5])"
   ]
  },
  {
   "cell_type": "markdown",
   "metadata": {},
   "source": [
    "## 724. Find Pivot Index\n",
    "\n",
    "Given an array of integers nums, calculate the pivot index of this array.\n",
    "\n",
    "The pivot index is the index where the sum of all the numbers strictly to the left of the index is equal to the sum of all the numbers strictly to the index's right.\n",
    "\n",
    "If the index is on the left edge of the array, then the left sum is 0 because there are no elements to the left. This also applies to the right edge of the array.\n",
    "\n",
    "Return the leftmost pivot index. If no such index exists, return -1."
   ]
  },
  {
   "cell_type": "code",
   "execution_count": 42,
   "metadata": {},
   "outputs": [
    {
     "data": {
      "text/plain": [
       "-1"
      ]
     },
     "execution_count": 42,
     "metadata": {},
     "output_type": "execute_result"
    }
   ],
   "source": [
    "def pivotIndex(self, nums: list[int]) -> int:\n",
    "    for i in range(len(nums)):\n",
    "        if sum(nums[0:i]) == sum(nums[i+1:len(nums)]):\n",
    "            return i\n",
    "    return -1\n",
    "\n",
    "#better solution, taken from editorial\n",
    "#we just need to compare if right_sum == left_sum, where right_sum = sum_of_numbers - left_sum + nums[i]\n",
    "\n",
    "def pivotIndex2(self, nums: list[int]) -> int:\n",
    "    S = sum(nums)\n",
    "    leftsum = 0\n",
    "    for i, x in enumerate(nums):\n",
    "        if leftsum == (S - leftsum - x):\n",
    "            return i\n",
    "        leftsum += x\n",
    "    return -1\n",
    "\n",
    "pivotIndex2(self=any,nums=[1,-1,-1,1,1,2,2,-1,-1,-1,0])\n"
   ]
  },
  {
   "cell_type": "markdown",
   "metadata": {},
   "source": [
    "## 2215. Find the Difference of Two Arrays\n",
    "\n",
    "Given two 0-indexed integer arrays nums1 and nums2, return a list answer of size 2 where:\n",
    "\n",
    "- answer[0] is a list of all distinct integers in nums1 which are not present in nums2.\n",
    "- answer[1] is a list of all distinct integers in nums2 which are not present in nums1.\n",
    "\n",
    "Note that the integers in the lists may be returned in any order"
   ]
  },
  {
   "cell_type": "code",
   "execution_count": 43,
   "metadata": {},
   "outputs": [],
   "source": [
    "def findDifference(self, nums1: list[int], nums2: list[int]) -> list[list[int]]:\n",
    "    answer=[[],[]]\n",
    "    for i in range(len(nums1)):\n",
    "        if nums1[i] not in nums2 and nums1[i] not in answer[0]:\n",
    "            answer[0].append(nums1[i])\n",
    "    for j in range(len(nums2)):\n",
    "        if nums2[j] not in nums1 and nums2[j] not in answer[1]:\n",
    "            answer[1].append(nums2[j])\n",
    "    return answer\n",
    "findDifference(self=any,nums1=[1,2,3,3], nums2=[1,1,2,2])\n",
    "\n",
    "#better solution (using `set`)\n",
    "def findDifference2(self, nums1: list[int], nums2: list[int]) -> list[list[int]]:\n",
    "    #`set` automatically removes repeating numbers\n",
    "    set_a, set_b = set(nums1), set(nums2)\n",
    "    return [list(set_a - set_b), list(set_b - set_a)]\n",
    "\n",
    "#better solution (from editorial)"
   ]
  },
  {
   "cell_type": "code",
   "execution_count": 44,
   "metadata": {},
   "outputs": [
    {
     "name": "stdout",
     "output_type": "stream",
     "text": [
      "{1, 2, 3} {1, 2}\n"
     ]
    },
    {
     "data": {
      "text/plain": [
       "{3}"
      ]
     },
     "execution_count": 44,
     "metadata": {},
     "output_type": "execute_result"
    }
   ],
   "source": [
    "nums1=[1,2,3,3]\n",
    "nums2=[1,1,2,2]\n",
    "\n",
    "set_a, set_b = set(nums1), set(nums2)\n",
    "print(set_a, set_b)\n",
    "set_a - set_b"
   ]
  },
  {
   "cell_type": "code",
   "execution_count": 45,
   "metadata": {},
   "outputs": [
    {
     "data": {
      "text/plain": [
       "{0: 2}"
      ]
     },
     "execution_count": 45,
     "metadata": {},
     "output_type": "execute_result"
    }
   ],
   "source": [
    "my_dict = {0:1}\n",
    "if 0 in my_dict:\n",
    "    my_dict[0] += 1\n",
    "else:\n",
    "    my_dict[0] = 1\n",
    "my_dict"
   ]
  },
  {
   "cell_type": "markdown",
   "metadata": {},
   "source": []
  },
  {
   "cell_type": "code",
   "execution_count": 46,
   "metadata": {},
   "outputs": [],
   "source": [
    "def uniqueOccurrences(self, arr: list[int]) -> bool:\n",
    "    my_dict = {}\n",
    "    for i in arr:\n",
    "        if i in my_dict:\n",
    "            my_dict[i] += 1\n",
    "        else:\n",
    "            my_dict[i] = 1\n",
    "    length = len(my_dict.values())\n",
    "    unique = len(set(my_dict.values()))\n",
    "    if len(length) == len(unique):\n",
    "        return True\n",
    "    else:\n",
    "        return False\n",
    "        "
   ]
  },
  {
   "cell_type": "markdown",
   "metadata": {},
   "source": [
    "## 1657. Determine if Two Strings Are Close\n",
    "\n",
    "Two strings are considered close if you can attain one from the other using the following operations:\n",
    "\n",
    "- Operation 1: Swap any two existing characters.\n",
    "For example, abcde -> aecdb\n",
    "- Operation 2: Transform every occurrence of one existing character into another existing character, and do the same with the other character.\n",
    "For example, aacabb -> bbcbaa (all a's turn into b's, and all b's turn into a's)\n",
    "You can use the operations on either string as many times as necessary.\n",
    "\n",
    "Given two strings, word1 and word2, return true if word1 and word2 are close, and false otherwise.\n",
    "\n"
   ]
  },
  {
   "cell_type": "code",
   "execution_count": 47,
   "metadata": {},
   "outputs": [
    {
     "data": {
      "text/plain": [
       "False"
      ]
     },
     "execution_count": 47,
     "metadata": {},
     "output_type": "execute_result"
    }
   ],
   "source": [
    "def closeStrings(self, word1: str, word2: str) -> bool:\n",
    "        word1_dict={}\n",
    "        word2_dict={}\n",
    "        if len(word1)==len(word2) and set(word1) == set(word2):\n",
    "            for i in range(len(word1)):\n",
    "                if word1[i] in word1_dict:\n",
    "                    word1_dict[word1[i]] += 1\n",
    "                else:\n",
    "                    word1_dict[word1[i]] = 1\n",
    "                if word2[i] in word2_dict:\n",
    "                    word2_dict[word2[i]] += 1\n",
    "                else:\n",
    "                    word2_dict[word2[i]] = 1\n",
    "            if sorted(word1_dict.values()) == sorted(word2_dict.values()):\n",
    "                return True\n",
    "        else:\n",
    "            return False\n",
    "        \n",
    "        return False\n",
    "closeStrings(self=any, word1='uau', word2='ssx')"
   ]
  },
  {
   "cell_type": "markdown",
   "metadata": {},
   "source": [
    "## 2352. Equal Row and Column Pairs\n",
    "\n",
    "\n",
    "Given a 0-indexed n x n integer matrix grid, return the number of pairs (ri, cj) such that row ri and column cj are equal.\n",
    "\n",
    "A row and column pair is considered equal if they contain the same elements in the same order (i.e., an equal array)."
   ]
  },
  {
   "cell_type": "code",
   "execution_count": 48,
   "metadata": {},
   "outputs": [
    {
     "data": {
      "text/plain": [
       "3"
      ]
     },
     "execution_count": 48,
     "metadata": {},
     "output_type": "execute_result"
    }
   ],
   "source": [
    "def equalPairs(self, grid: list[list[int]]) -> int:\n",
    "        count = 0\n",
    "        transposed_matrix = list(map(list, zip(*grid)))\n",
    "        for row in grid:\n",
    "            if row in transposed_matrix:\n",
    "                count += transposed_matrix.count(row)\n",
    "        return count\n",
    "\n",
    "equalPairs(any, grid=[[3,1,2,2],[1,4,4,4],[2,4,2,2],[2,5,2,2]])"
   ]
  },
  {
   "cell_type": "markdown",
   "metadata": {},
   "source": [
    "## 2390. Removing Stars From a String\n",
    "\n",
    "You are given a string s, which contains stars *.\n",
    "\n",
    "In one operation, you can:\n",
    "\n",
    "- Choose a star in s.\n",
    "- Remove the closest non-star character to its left, as well as remove the star itself.\n",
    "Return the string after all stars have been removed.\n",
    "\n",
    "Note:\n",
    "\n",
    "- The input will be generated such that the operation is always possible.\n",
    "- It can be shown that the resulting string will always be unique."
   ]
  },
  {
   "cell_type": "code",
   "execution_count": 49,
   "metadata": {},
   "outputs": [],
   "source": [
    "def removeStars(self, s: str) -> str:\n",
    "        new_string = []\n",
    "        for i in range(len(s)):\n",
    "            new_string.append(s[i])\n",
    "            if s[i] == \"*\":\n",
    "                new_string.pop()\n",
    "                new_string.pop()\n",
    "        return \"\".join(new_string)\n"
   ]
  },
  {
   "cell_type": "markdown",
   "metadata": {},
   "source": [
    "## 735. Asteroid Collision\n",
    "\n",
    "We are given an array asteroids of integers representing asteroids in a row.\n",
    "\n",
    "For each asteroid, the absolute value represents its size, and the sign represents its direction (positive meaning right, negative meaning left). Each asteroid moves at the same speed.\n",
    "\n",
    "Find out the state of the asteroids after all collisions. If two asteroids meet, the smaller one will explode. If both are the same size, both will explode. Two asteroids moving in the same direction will never meet."
   ]
  },
  {
   "cell_type": "code",
   "execution_count": 50,
   "metadata": {},
   "outputs": [
    {
     "data": {
      "text/plain": [
       "[-2, 5, 1]"
      ]
     },
     "execution_count": 50,
     "metadata": {},
     "output_type": "execute_result"
    }
   ],
   "source": [
    "def asteroidCollision(self, asteroids: list[int]) -> list[int]:\n",
    "    #count the number of > 0 and number of < 0\n",
    "    l = 0\n",
    "    while l+1 < len(asteroids):\n",
    "        \n",
    "        if (asteroids[l] >= 0 and asteroids[l+1] < 0):\n",
    "            if abs(asteroids[l]) > abs(asteroids[l+1]):\n",
    "                asteroids.pop(l+1)\n",
    "            elif abs(asteroids[l]) == abs(asteroids[l+1]):\n",
    "                asteroids.pop(l)\n",
    "                asteroids.pop(l)\n",
    "                print(l)\n",
    "                l-=1\n",
    "            else:\n",
    "                asteroids.pop(l)\n",
    "                l-=1 \n",
    "        else:\n",
    "            l+=1\n",
    "        if l < 0:\n",
    "            l = 0\n",
    "    \n",
    "    return asteroids\n",
    "\n",
    "asteroidCollision(any, asteroids=[1,-2,5,-2,1])"
   ]
  },
  {
   "cell_type": "markdown",
   "metadata": {},
   "source": []
  },
  {
   "cell_type": "code",
   "execution_count": 51,
   "metadata": {},
   "outputs": [
    {
     "data": {
      "text/plain": [
       "'adccadccadcc'"
      ]
     },
     "execution_count": 51,
     "metadata": {},
     "output_type": "execute_result"
    }
   ],
   "source": [
    "def decodeString(self, s: str) -> str:\n",
    "    #last in first out stack\n",
    "    st = []\n",
    "    num = 0\n",
    "    res = ''\n",
    "\n",
    "    for i in s:\n",
    "        if i.isnumeric():\n",
    "            #to handle more than 1 digit number\n",
    "            num = num * 10 + int(i)\n",
    "        elif i == \"[\":\n",
    "            st.append(res)\n",
    "            st.append(num)\n",
    "            num = 0\n",
    "            res = \"\"\n",
    "        elif i == \"]\":\n",
    "            #assigning \"count\" as the last element that was removed from the stack -> the number of times\n",
    "            count = st.pop()\n",
    "            #assigning \"prev_chars\" as the last element that was removed from the stack -> the letter\n",
    "            prev_chars = st.pop()\n",
    "            res = prev_chars + count * res\n",
    "        else:\n",
    "            res += i\n",
    "    return res\n",
    "\n",
    "\n",
    "decodeString(any, s='3[ad2[c]]')"
   ]
  },
  {
   "cell_type": "markdown",
   "metadata": {},
   "source": [
    "## 933. Number of Recent Calls\n",
    "\n",
    "You have a RecentCounter class which counts the number of recent requests within a certain time frame.\n",
    "\n",
    "Implement the RecentCounter class:\n",
    "\n",
    "- `RecentCounter()` Initializes the counter with zero recent requests.\n",
    "- `int ping(int t)` Adds a new request at time t, where t represents some time in milliseconds, and returns the number of requests that has happened in the past 3000 milliseconds (including the new request). Specifically, return the number of requests that have happened in the inclusive range [t - 3000, t].\n",
    "\n",
    "It is guaranteed that every call to ping uses a strictly larger value of t than the previous call.\n",
    "\n",
    " "
   ]
  },
  {
   "cell_type": "code",
   "execution_count": 52,
   "metadata": {},
   "outputs": [
    {
     "data": {
      "text/plain": [
       "1"
      ]
     },
     "execution_count": 52,
     "metadata": {},
     "output_type": "execute_result"
    }
   ],
   "source": [
    "class RecentCounter:\n",
    "\n",
    "    #initiate the list to store the ping time\n",
    "    def __init__(self):\n",
    "        self.t_list = []\n",
    "        \n",
    "    #append the ping time to the list, and then pop the ping time that is not in the range of 3000\n",
    "    def ping(self, t: int) -> int:\n",
    "        self.t_list.append(t)\n",
    "        i = 0\n",
    "        while self.t_list[i] < t-3000:\n",
    "            self.t_list.pop(i)\n",
    "        return len(self.t_list)\n",
    "requests =  RecentCounter()\n",
    "requests.ping(3000)"
   ]
  },
  {
   "cell_type": "markdown",
   "metadata": {},
   "source": [
    "## 649. Dota2 Senate\n",
    "\n",
    "In the world of Dota2, there are two parties: the Radiant and the Dire.\n",
    "\n",
    "The Dota2 senate consists of senators coming from two parties. Now the Senate wants to decide on a change in the Dota2 game. The voting for this change is a round-based procedure. In each round, each senator can exercise one of the two rights:\n",
    "\n",
    "- **Ban** one senator's right: A senator can make another senator lose all his rights in this and all the following rounds.\n",
    "- **Announce** the victory: If this senator found the senators who still have rights to vote are all from the same party, he can announce the victory and decide on the change in the game.\n",
    "Given a string senate representing each senator's party belonging. The character 'R' and 'D' represent the Radiant party and the Dire party. Then if there are n senators, the size of the given string will be n.\n",
    "\n",
    "The round-based procedure starts from the first senator to the last senator in the given order. This procedure will last until the end of voting. All the senators who have lost their rights will be skipped during the procedure.\n",
    "\n",
    "Suppose every senator is smart enough and will play the best strategy for his own party. Predict which party will finally announce the victory and change the Dota2 game. The output should be \"Radiant\" or \"Dire\".\n"
   ]
  },
  {
   "cell_type": "code",
   "execution_count": 53,
   "metadata": {},
   "outputs": [
    {
     "data": {
      "text/plain": [
       "'Radiant'"
      ]
     },
     "execution_count": 53,
     "metadata": {},
     "output_type": "execute_result"
    }
   ],
   "source": [
    "from collections import deque\n",
    "def predictPartyVictory(self, senate: str) -> str:\n",
    "    d_ban = 0\n",
    "    r_ban = 0\n",
    "    d_count = senate.count('D')\n",
    "    r_count = senate.count('R')\n",
    "\n",
    "    senate_queue = deque(senate)\n",
    "    \n",
    "    #when r_count and d_count are both greater than 0, the game continues\n",
    "    while r_count and d_count:\n",
    "        \n",
    "        #assign curr to the first element in the queue. we are not going to append it back if we ban\n",
    "        #there is a ban counter\n",
    "        curr = senate_queue.popleft()\n",
    "        if curr == \"R\":\n",
    "            #for example, if d_ban is >= 1, the current \"R\" is not going to have rights.\n",
    "            #hence, we are not going to append it back to the queue\n",
    "            if d_ban >= 1:\n",
    "                d_ban -= 1\n",
    "                r_count -= 1\n",
    "                continue\n",
    "            r_ban += 1\n",
    "            #if the current \"R\" is not going to be banned, we append it back to the queue\n",
    "            #as it will have rights the next round\n",
    "            senate_queue.append(curr)\n",
    "            \n",
    "        else:\n",
    "            if r_ban >= 1:\n",
    "                r_ban -= 1\n",
    "                d_count -= 1\n",
    "                continue\n",
    "            d_ban += 1\n",
    "            senate_queue.append(curr)\n",
    "\n",
    "    #when there is only one party left (only count that is more than 0), we return the party\n",
    "    else: return \"Radiant\" if r_count > d_count else \"Dire\"\n",
    "\n",
    "\n",
    "predictPartyVictory(any, 'DRRDRDRDRDDRDRDR') #right radiant"
   ]
  },
  {
   "cell_type": "markdown",
   "metadata": {},
   "source": [
    "# Linked List"
   ]
  },
  {
   "cell_type": "markdown",
   "metadata": {},
   "source": [
    "## 2095. Delete the Middle Node of a Linked List\n",
    "\n",
    "You are given the head of a linked list. Delete the middle node, and return the head of the modified linked list.\n",
    "\n",
    "The middle node of a linked list of size n is the ⌊n / 2⌋th node from the start using 0-based indexing, where ⌊x⌋ denotes the largest integer less than or equal to x.\n",
    "\n",
    "For n = 1, 2, 3, 4, and 5, the middle nodes are 0, 1, 1, 2, and 2, respectively."
   ]
  },
  {
   "cell_type": "code",
   "execution_count": 54,
   "metadata": {},
   "outputs": [],
   "source": [
    "class ListNode:\n",
    "    def __init__(self, val=0, next=None):\n",
    "        self.val = val\n",
    "        self.next = next\n",
    "\n",
    "listNode = ListNode(val=1, next=ListNode(val=2, next=ListNode(val=3, next=ListNode(val=4, next=ListNode(val=5, next=None)))))\n",
    "\n",
    "def deleteMiddle(self, head:[ListNode]) -> [ListNode]:\n",
    "        #if linked list is empty, we return None\n",
    "        if head.next == None:\n",
    "            return None\n",
    "        count = 0\n",
    "\n",
    "        #we create 3 pointers, head2 will be the middle pointer\n",
    "        head2 = head3 = head\n",
    "\n",
    "        #head3 will be used to count the length of the linked list\n",
    "        while head3:\n",
    "            count += 1\n",
    "            head3 = head3.next\n",
    "        #// means floor division, returns an integer that is rounded down\n",
    "        middle = count // 2\n",
    "\n",
    "        #head2 will be the middle pointer, we move it to the middle of the linked list\n",
    "        for _ in range(middle - 1):\n",
    "            head2 = head2.next\n",
    "        head2.next = head2.next.next\n",
    "\n",
    "        #note that changing head2.next will also change head.next, thats why we can return head directly\n",
    "        return head\n",
    "\n",
    "#using the slow and fast pointer method\n",
    "def deleteMiddle2(self, head:[ListNode]) -> [ListNode]:\n",
    "        if head.next == None:\n",
    "            return None\n",
    "        #create 3 pointers, slow and fast will be used to find the middle of the linked list\n",
    "        slow, fast = head, head.next.next\n",
    "\n",
    "        #we move fast pointer 2 nodes ahead of slow pointer, so that when fast reaches the end of the linked list, \n",
    "        #slow will be at the middle. we only need the prdecessor of the middle node to delete it, \n",
    "        # not the middle node itself \n",
    "        while fast and fast.next:\n",
    "            slow = slow.next\n",
    "            fast = fast.next.next\n",
    "        slow.next = slow.next.next\n",
    "        \n",
    "        #note that changing slow.next will also change head.next, thats why we can return head directly\n",
    "        return head\n"
   ]
  },
  {
   "cell_type": "code",
   "execution_count": 55,
   "metadata": {},
   "outputs": [
    {
     "data": {
      "text/plain": [
       "0"
      ]
     },
     "execution_count": 55,
     "metadata": {},
     "output_type": "execute_result"
    }
   ],
   "source": [
    "listNode = ListNode(val=1, next=ListNode(val=2, next=ListNode(val=3, next=ListNode(val=4, next=ListNode(val=5, next=None)))))\n",
    "i=0\n",
    "middle = 1 // 2\n",
    "middle\n",
    "#skipping a node\n",
    "#listNode.next.next(curr node - 1) = listNode.next.next.next (curr node + 1)"
   ]
  },
  {
   "cell_type": "markdown",
   "metadata": {},
   "source": [
    "## 328. Odd Even Linked List\n",
    "\n",
    "Given the head of a singly linked list, group all the nodes with odd indices together followed by the nodes with even indices, and return the reordered list.\n",
    "\n",
    "The first node is considered odd, and the second node is even, and so on.\n",
    "\n",
    "Note that the relative order inside both the even and odd groups should remain as it was in the input.\n",
    "\n",
    "You must solve the problem in O(1) extra space complexity and O(n) time complexity."
   ]
  },
  {
   "cell_type": "code",
   "execution_count": 56,
   "metadata": {},
   "outputs": [
    {
     "data": {
      "text/plain": [
       "<__main__.ListNode at 0x107bed360>"
      ]
     },
     "execution_count": 56,
     "metadata": {},
     "output_type": "execute_result"
    }
   ],
   "source": [
    "def oddEvenList(self, head: [ListNode]) -> [ListNode]:\n",
    "    \n",
    "    # if head is None, return None\n",
    "    if head == None:\n",
    "        return None\n",
    "\n",
    "    # creating two pointers for head, one for odd and one for even\n",
    "    even = head\n",
    "    odd = head.next\n",
    "\n",
    "    #creating another pointer for odd_head, because we will change the odd pointer later\n",
    "    # 2 separate pointers\n",
    "    odd_head = odd\n",
    "\n",
    "    # using odd and odd.next to keep track of the odd nodes, because odd will be the last node first\n",
    "    while odd and odd.next:\n",
    "\n",
    "        # assigning even.next to odd.next, because odd.next will be the next even node\n",
    "        # i.e. head.next = head.next.next, but we cant change the head directly\n",
    "        even.next = odd.next\n",
    "\n",
    "        # moving the new even node to the next even node\n",
    "        even = even.next\n",
    "\n",
    "        # assigning odd.next to even.next, because even.next will be the next odd node\n",
    "        odd.next = even.next\n",
    "\n",
    "        # moving the new odd node to the next odd node\n",
    "        odd = odd.next\n",
    "    \n",
    "    # assigning the last even node to the odd_head, because odd_head is the first odd node\n",
    "    # we changed the pointer for even and odd_head, but not odd, so odd is still the last node\n",
    "    even.next = odd_head\n",
    "    return head\n",
    "\n",
    "listNode = ListNode(val=1, next=ListNode(val=2, next=ListNode(val=3, next=ListNode(val=4, next=ListNode(val=5, next=None)))))\n",
    "oddEvenList(any,head=listNode) "
   ]
  },
  {
   "cell_type": "markdown",
   "metadata": {},
   "source": [
    "## 206. Reverse Linked List\n",
    "\n",
    "Given the head of a singly linked list, reverse the list, and return the reversed list."
   ]
  },
  {
   "cell_type": "code",
   "execution_count": 57,
   "metadata": {},
   "outputs": [],
   "source": [
    "def reverseList(self, head: [ListNode]) -> [ListNode]:\n",
    "\n",
    "    #setting up the pointers\n",
    "    #prev is the previous node\n",
    "    prev = None\n",
    "\n",
    "    #curr is the current node\n",
    "    curr = head\n",
    "\n",
    "    #next is the next node\n",
    "    while curr:\n",
    "        #storing the next node\n",
    "        next = curr.next\n",
    "        #reversing the pointer - val1.next = None, val2.next = val1 etc.\n",
    "        curr.next = prev\n",
    "        #storing current node as prev, because we are moving to the next node\n",
    "        prev = curr\n",
    "        #moving to the next node\n",
    "        curr = next\n",
    "    return prev"
   ]
  },
  {
   "cell_type": "markdown",
   "metadata": {},
   "source": [
    "## 2130. Maximum Twin Sum of a Linked List\n",
    "\n",
    "In a linked list of size n, where n is even, the ith node (0-indexed) of the linked list is known as the twin of the `(n-1-i)th` node, if `0 <= i <= (n / 2) - 1`.\n",
    "\n",
    "- For example, if n = 4, then node 0 is the twin of node 3, and node 1 is the twin of node 2. These are the only nodes with twins for n = 4.\n",
    "The twin sum is defined as the sum of a node and its twin.\n",
    "\n",
    "Given the head of a linked list with even length, return the maximum twin sum of the linked list."
   ]
  },
  {
   "cell_type": "code",
   "execution_count": 58,
   "metadata": {},
   "outputs": [],
   "source": [
    "def pairSum(self, head: [ListNode]) -> int:\n",
    "        val_list = []\n",
    "        while head:\n",
    "            val_list.append(head.val)\n",
    "            head = head.next\n",
    "        i=0\n",
    "        j=len(val_list)-1\n",
    "        max_val = (val_list[i] + val_list[j])\n",
    "        while i < j:\n",
    "            max_val = max(max_val, val_list[i] + val_list[j])\n",
    "            i+=1\n",
    "            j-=1\n",
    "        return max_val\n"
   ]
  },
  {
   "cell_type": "markdown",
   "metadata": {},
   "source": [
    "# Binary Tree - Depth First Search"
   ]
  },
  {
   "cell_type": "markdown",
   "metadata": {},
   "source": [
    "## 104. Maximum Depth of Binary Tree\n",
    "\n",
    "Given the root of a binary tree, return its maximum depth.\n",
    "\n",
    "A binary tree's maximum depth is the number of nodes along the longest path from the root node down to the farthest leaf node.\n",
    "\n",
    "recursion yucks"
   ]
  },
  {
   "cell_type": "code",
   "execution_count": 96,
   "metadata": {},
   "outputs": [],
   "source": [
    "#Definition for a binary tree node.\n",
    "class TreeNode:\n",
    "    def __init__(self, val=0, left=None, right=None):\n",
    "        self.val = val\n",
    "        self.left = left\n",
    "        self.right = right\n",
    "\n",
    "root1 = TreeNode(val= 3, left= TreeNode(val= 10, left=None, right= None), right= TreeNode(val= 20, left= TreeNode(val= 15, left= None, right= None), right= TreeNode(val= 7, left= None, right= None)))\n",
    "root2= TreeNode(val= 3, left= TreeNode(val= 9, left=None, right= None), right= TreeNode(val= 20, left= TreeNode(val= 15, left= None, right= None), right= TreeNode(val= 7, left= None, right= None)))"
   ]
  },
  {
   "cell_type": "code",
   "execution_count": 74,
   "metadata": {},
   "outputs": [
    {
     "name": "stdout",
     "output_type": "stream",
     "text": [
      "5\n",
      "4\n",
      "3\n",
      "2\n",
      "1\n",
      "Blastoff!\n"
     ]
    }
   ],
   "source": [
    "def countdown(n):\n",
    "    if n <= 0:\n",
    "        print(\"Blastoff!\")\n",
    "    else:\n",
    "        print(n)\n",
    "        countdown(n - 1)\n",
    "\n",
    "# Call the recursive function\n",
    "countdown(5)"
   ]
  },
  {
   "cell_type": "markdown",
   "metadata": {},
   "source": []
  },
  {
   "cell_type": "code",
   "execution_count": 90,
   "metadata": {},
   "outputs": [
    {
     "data": {
      "text/plain": [
       "3"
      ]
     },
     "execution_count": 90,
     "metadata": {},
     "output_type": "execute_result"
    }
   ],
   "source": [
    "def maxDepth(self, root: [TreeNode]) -> int:\n",
    "    if not root:\n",
    "        return 0\n",
    "    return max(maxDepth(self=any, root=root.left), maxDepth(self=any, root=root.right)) + 1\n",
    "maxDepth(self=any,root=root)"
   ]
  },
  {
   "cell_type": "markdown",
   "metadata": {},
   "source": [
    "## 872. Leaf-Similar Trees\n",
    "\n",
    "Consider all the leaves of a binary tree, from left to right order, the values of those leaves form a leaf value sequence.\n",
    "\n",
    "Two binary trees are considered leaf-similar if their leaf value sequence is the same.\n",
    "\n",
    "Return true if and only if the two given trees with head nodes root1 and root2 are leaf-similar."
   ]
  },
  {
   "cell_type": "code",
   "execution_count": 99,
   "metadata": {},
   "outputs": [],
   "source": [
    "def leafSimilar(self, root1: [TreeNode], root2: [TreeNode]) -> bool:\n",
    "        def dfs(node: [TreeNode], leaf_list: [int]):\n",
    "            #if current node exists\n",
    "            if node:\n",
    "                #if there are no more left and right nodes. \n",
    "                #append to list\n",
    "                #keep traversing until there are no nodes left\n",
    "                if not node.left and not node.right:\n",
    "                    leaf_list.append(node.val)\n",
    "                else: #there is at least one leaf in this node\n",
    "                    #traverse left first\n",
    "                    if node.left:\n",
    "                        dfs(node.left, leaf_list)\n",
    "                    if node.right:\n",
    "                        dfs(node.right, leaf_list)\n",
    "        val1=[]\n",
    "        val2=[]\n",
    "        dfs(root1, val1)\n",
    "        dfs(root2, val2)\n",
    "        return val1==val2"
   ]
  },
  {
   "cell_type": "code",
   "execution_count": null,
   "metadata": {},
   "outputs": [],
   "source": []
  }
 ],
 "metadata": {
  "kernelspec": {
   "display_name": "py310",
   "language": "python",
   "name": "python3"
  },
  "language_info": {
   "codemirror_mode": {
    "name": "ipython",
    "version": 3
   },
   "file_extension": ".py",
   "mimetype": "text/x-python",
   "name": "python",
   "nbconvert_exporter": "python",
   "pygments_lexer": "ipython3",
   "version": "3.10.11"
  },
  "orig_nbformat": 4
 },
 "nbformat": 4,
 "nbformat_minor": 2
}
